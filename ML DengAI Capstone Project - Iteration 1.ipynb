{
 "cells": [
  {
   "cell_type": "markdown",
   "metadata": {},
   "source": [
    "# First iteration ( Business as usual )\n",
    "\n",
    "This first iteration will be characterized by training supervised algorithms pure regression models, i.e. it will not be taken into consideration the sequential nature of the training dataset."
   ]
  },
  {
   "cell_type": "markdown",
   "metadata": {},
   "source": [
    "## Load the Data"
   ]
  },
  {
   "cell_type": "code",
   "execution_count": null,
   "metadata": {},
   "outputs": [],
   "source": [
    "#Import the necessary libraries\n",
    "%matplotlib inline\n",
    "\n",
    "import pandas as pd\n",
    "import numpy as np\n",
    "import seaborn as sns\n",
    "\n",
    "from pandas.plotting import scatter_matrix\n",
    "from pandas import DataFrame\n",
    "from pandas import concat\n",
    "from pandas import read_csv\n",
    "from pandas import datetime\n",
    "\n",
    "from matplotlib import pyplot as plt\n",
    "\n",
    "from sklearn.preprocessing import MinMaxScaler\n",
    "from sklearn.preprocessing import LabelEncoder\n",
    "from sklearn.metrics import mean_absolute_error,make_scorer\n",
    "from sklearn.model_selection import GridSearchCV\n",
    "from sklearn.cross_validation import ShuffleSplit\n",
    "from sklearn.model_selection import train_test_split\n",
    "\n",
    "# create scorer\n",
    "scorer = make_scorer(mean_absolute_error)\n",
    "\n",
    "# Load Iquitos preprocessed Data \n",
    "dengue_features_train_iq = pd.read_csv(\"preprocessed data\\dengue_features_train_iq.csv\")\n",
    "dengue_labels_train_iq = pd.read_csv(\"preprocessed data\\dengue_labels_train_iq.csv\")\n",
    "dengue_features_test_iq = pd.read_csv(\"preprocessed data\\dengue_features_test_iq.csv\")\n",
    "\n",
    "# drop all columns referencing times\n",
    "stripped_dengue_features_train_iq = dengue_features_train_iq.drop(['year','weekofyear','week_start_date'], axis=1)\n",
    "stripped_dengue_labels_train_iq = dengue_labels_train_iq.drop(['year','weekofyear'], axis=1)\n",
    "stripped_dengue_features_test_iq = dengue_features_test_iq.drop(['year','weekofyear','week_start_date'], axis=1)\n",
    "\n",
    "# Load San Juan preprocessed Data \n",
    "dengue_features_train_sj = pd.read_csv(\"preprocessed data\\dengue_features_train_sj.csv\")\n",
    "dengue_labels_train_sj = pd.read_csv(\"preprocessed data\\dengue_labels_train_sj.csv\")\n",
    "dengue_features_test_sj = pd.read_csv(\"preprocessed data\\dengue_features_test_sj.csv\")\n",
    "\n",
    "stripped_dengue_features_train_sj = dengue_features_train_sj.drop(['year','weekofyear','week_start_date'], axis=1)\n",
    "stripped_dengue_labels_train_sj = dengue_labels_train_sj.drop(['year','weekofyear'], axis=1)\n",
    "stripped_dengue_features_test_sj = dengue_features_test_sj.drop(['year','weekofyear','week_start_date'], axis=1)"
   ]
  },
  {
   "cell_type": "markdown",
   "metadata": {},
   "source": [
    "## Random Forest\n",
    "\n",
    "### Initialization"
   ]
  },
  {
   "cell_type": "code",
   "execution_count": null,
   "metadata": {},
   "outputs": [],
   "source": [
    "# Import the model we are using\n",
    "from sklearn.ensemble import RandomForestRegressor\n",
    "\n",
    "scorer = make_scorer(mean_absolute_error)\n",
    "\n",
    "clf = RandomForestRegressor(random_state=42)\n",
    "\n",
    "# parameters = {'parameter_1': [value1, value2], 'parameter_2': [value1, value2]}\n",
    "parameters = {'n_estimators': [100, 150, 200]}"
   ]
  },
  {
   "cell_type": "markdown",
   "metadata": {},
   "source": [
    "### Iquitos"
   ]
  },
  {
   "cell_type": "code",
   "execution_count": null,
   "metadata": {},
   "outputs": [],
   "source": [
    "cv_sets_iq = ShuffleSplit(dengue_features_train_iq.shape[0], n_iter = 10, test_size = 0.2, random_state = 0)\n",
    "grid_obj_iq = GridSearchCV(clf, param_grid=parameters, scoring=scorer, cv=cv_sets_iq)\n",
    "\n",
    "grid_fit_iq = grid_obj_iq.fit(stripped_dengue_features_train_iq, dengue_labels_train_iq[\"total_cases\"])\n",
    "\n",
    "# Get the estimator\n",
    "best_clf_iq = grid_fit_iq.best_estimator_\n",
    "\n",
    "# Make predictions using the unoptimized and model\n",
    "best_predictions_iq = best_clf_iq.predict(stripped_dengue_features_test_iq)\n",
    "best_predictions_iq  = np.around(best_predictions_iq, decimals=0)\n",
    "best_predictions_iq = best_predictions_iq.astype(int)"
   ]
  },
  {
   "cell_type": "markdown",
   "metadata": {},
   "source": [
    "### San Juan"
   ]
  },
  {
   "cell_type": "code",
   "execution_count": null,
   "metadata": {},
   "outputs": [],
   "source": [
    "cv_sets_sj = ShuffleSplit(dengue_features_train_iq.shape[0], n_iter = 10, test_size = 0.2, random_state = 0)\n",
    "grid_obj_sj = GridSearchCV(clf, param_grid=parameters, scoring=scorer, cv=cv_sets_sj)\n",
    "\n",
    "grid_fit_sj = grid_obj_sj.fit(stripped_dengue_features_train_sj, dengue_labels_train_sj[\"total_cases\"])\n",
    "\n",
    "# Get the estimator\n",
    "best_clf_sj = grid_fit_sj.best_estimator_\n",
    "\n",
    "# Make predictions using the unoptimized and model\n",
    "best_predictions_sj = best_clf_sj.predict(stripped_dengue_features_test_sj)\n",
    "best_predictions_sj  = np.around(best_predictions_sj, decimals=0)\n",
    "best_predictions_sj = best_predictions_sj.astype(int)"
   ]
  },
  {
   "cell_type": "markdown",
   "metadata": {},
   "source": [
    "### Create Random Forest Submission File"
   ]
  },
  {
   "cell_type": "code",
   "execution_count": null,
   "metadata": {},
   "outputs": [],
   "source": [
    "# San Juan - city,year,weekofyear,total_cases\n",
    "submission_sj = dengue_features_test_sj[['year','weekofyear']]\n",
    "submission_sj.insert( 0,'city','sj')\n",
    "\n",
    "df_best_predictions_sj = pd.DataFrame(best_predictions_sj, columns=['total_cases'])\n",
    "submission_sj = pd.concat([submission_sj, df_best_predictions_sj], axis=1)\n",
    "\n",
    "# Iquitos - city,year,weekofyear,total_cases\n",
    "submission_iq = dengue_features_test_iq[['year','weekofyear']]\n",
    "submission_iq.insert( 0,'city','iq')\n",
    "\n",
    "df_best_predictions_iq = pd.DataFrame(best_predictions_iq, columns=['total_cases'])\n",
    "submission_iq = pd.concat([submission_iq, df_best_predictions_iq], axis=1)\n",
    "\n",
    "# join both predictions\n",
    "submission = pd.concat([submission_sj, submission_iq])\n",
    "submission = submission.reset_index(drop = True)\n",
    "\n",
    "#write into csv\n",
    "submission.to_csv(\"Submission\\Submission_1_RandomDecistion.csv\", encoding='utf-8', index=False)"
   ]
  },
  {
   "attachments": {
    "image.png": {
     "image/png": "[encoded data removed]"
    }
   },
   "cell_type": "markdown",
   "metadata": {},
   "source": [
    "### Submission Score \n",
    "\n",
    "![image.png](attachment:image.png)"
   ]
  },
  {
   "cell_type": "markdown",
   "metadata": {},
   "source": [
    "## Ensemble AdaBoost\n",
    "\n",
    "### Initialization"
   ]
  },
  {
   "cell_type": "code",
   "execution_count": null,
   "metadata": {},
   "outputs": [],
   "source": [
    "from sklearn.tree import DecisionTreeRegressor\n",
    "from sklearn.ensemble import AdaBoostRegressor\n",
    "\n",
    "clf = AdaBoostRegressor(random_state=42)\n",
    "\n",
    "# parameters = {'parameter_1': [value1, value2], 'parameter_2': [value1, value2]}\n",
    "parameters = {'n_estimators': [100, 150, 200], 'learning_rate' : [0.75, 1, 1.25]}"
   ]
  },
  {
   "cell_type": "markdown",
   "metadata": {},
   "source": [
    "### Iquitos"
   ]
  },
  {
   "cell_type": "code",
   "execution_count": null,
   "metadata": {},
   "outputs": [],
   "source": [
    "cv_sets_iq = ShuffleSplit(dengue_features_train_iq.shape[0], n_iter = 10, test_size = 0.2, random_state = 42)\n",
    "\n",
    "grid_obj_iq = GridSearchCV(clf, param_grid=parameters, scoring=scorer, cv=cv_sets_iq)\n",
    "\n",
    "grid_fit_iq = grid_obj_iq.fit(stripped_dengue_features_train_iq, dengue_labels_train_iq[\"total_cases\"])\n",
    "\n",
    "# Get the estimator\n",
    "best_clf_iq = grid_fit_iq.best_estimator_\n",
    "\n",
    "# Make predictions using the unoptimized and model\n",
    "best_predictions_iq = best_clf_iq.predict(stripped_dengue_features_test_iq)\n",
    "best_predictions_iq  = np.around(best_predictions_iq, decimals=0)\n",
    "best_predictions_iq = best_predictions_iq.astype(int)"
   ]
  },
  {
   "cell_type": "markdown",
   "metadata": {},
   "source": [
    "### San Juan"
   ]
  },
  {
   "cell_type": "code",
   "execution_count": null,
   "metadata": {},
   "outputs": [],
   "source": [
    "cv_sets_sj = ShuffleSplit(dengue_features_train_iq.shape[0], n_iter = 10, test_size = 0.2, random_state = 0)\n",
    "\n",
    "grid_obj_sj = GridSearchCV(clf, param_grid=parameters, scoring=scorer, cv=cv_sets_sj)\n",
    "\n",
    "grid_fit_sj = grid_obj_sj.fit(stripped_dengue_features_train_sj, dengue_labels_train_sj[\"total_cases\"])\n",
    "\n",
    "# Get the estimator\n",
    "best_clf_sj = grid_fit_sj.best_estimator_\n",
    "\n",
    "# Make predictions using the unoptimized and model\n",
    "best_predictions_sj = best_clf_sj.predict(stripped_dengue_features_test_sj)\n",
    "best_predictions_sj  = np.around(best_predictions_sj, decimals=0)\n",
    "best_predictions_sj = best_predictions_sj.astype(int)"
   ]
  },
  {
   "cell_type": "markdown",
   "metadata": {},
   "source": [
    "### Create AdaBoost Submission File"
   ]
  },
  {
   "cell_type": "code",
   "execution_count": null,
   "metadata": {},
   "outputs": [],
   "source": [
    "# San Juan - city,year,weekofyear,total_cases\n",
    "submission_sj = dengue_features_test_sj[['year','weekofyear']]\n",
    "submission_sj.insert( 0,'city','sj')\n",
    "\n",
    "df_best_predictions_sj = pd.DataFrame(best_predictions_sj, columns=['total_cases'])\n",
    "submission_sj = pd.concat([submission_sj, df_best_predictions_sj], axis=1)\n",
    "\n",
    "# Iquitos - city,year,weekofyear,total_cases\n",
    "submission_iq = dengue_features_test_iq[['year','weekofyear']]\n",
    "submission_iq.insert( 0,'city','iq')\n",
    "\n",
    "df_best_predictions_iq = pd.DataFrame(best_predictions_iq, columns=['total_cases'])\n",
    "submission_iq = pd.concat([submission_iq, df_best_predictions_iq], axis=1)\n",
    "\n",
    "# join both predictions\n",
    "submission = pd.concat([submission_sj, submission_iq])\n",
    "submission = submission.reset_index(drop = True)\n",
    "\n",
    "#write into csv\n",
    "submission.to_csv(\"Submission\\Submission_1_AdaBoost.csv\", encoding='utf-8', index=False)"
   ]
  },
  {
   "attachments": {
    "image.png": {
     "image/png": "[encoded data removed]"
    }
   },
   "cell_type": "markdown",
   "metadata": {},
   "source": [
    "### AdaBoost Submission Score \n",
    "\n",
    "![image.png](attachment:image.png)"
   ]
  },
  {
   "cell_type": "markdown",
   "metadata": {},
   "source": [
    "## Long Short-Term Memory (LSTM)\n",
    "\n",
    "### Initialization"
   ]
  },
  {
   "cell_type": "code",
   "execution_count": null,
   "metadata": {},
   "outputs": [],
   "source": [
    "from keras.models import Sequential\n",
    "from keras.layers import Dense\n",
    "from keras.layers import LSTM\n",
    "from keras.layers import Dropout\n",
    "from keras.layers import Activation\n",
    "from keras.callbacks import ModelCheckpoint\n",
    "from keras.regularizers import L1L2\n",
    "\n",
    "reg = L1L2(l1=0.0, l2=0.00001)\n",
    "\n",
    "columns_to_scale = ['D1', 'D2','D3', 'D4','D5', 'D6']\n",
    "\n",
    "# Initialize a scaler and apply it to the features\n",
    "scaler = MinMaxScaler(feature_range=(0, 1)) # default=(0, 1)"
   ]
  },
  {
   "cell_type": "markdown",
   "metadata": {},
   "source": [
    "### Iquitos"
   ]
  },
  {
   "cell_type": "code",
   "execution_count": null,
   "metadata": {
    "scrolled": true
   },
   "outputs": [],
   "source": [
    "# Normalization should be done on both, train and test features datasets, ensuring that the values in both datasets \n",
    "# remain of same magnitude. Therefore these datasets will be joined, applied the minmax normalization, and then splitted.\n",
    "stripped_dengue_features_train_iq['data_set'] = 'train'\n",
    "stripped_dengue_features_test_iq['data_set']  = 'test'\n",
    "\n",
    "dengue_norm_features_iq  = stripped_dengue_features_train_iq.append(stripped_dengue_features_test_iq)\n",
    "dengue_norm_features_iq[columns_to_scale] = scaler.fit_transform(dengue_norm_features_iq[columns_to_scale])\n",
    "\n",
    "# separate into the original datasets, dropping the temporary columns 'dataset'\n",
    "stripped_norm_dengue_features_train_iq = dengue_norm_features_iq[dengue_norm_features_iq['data_set'] == 'train']\n",
    "stripped_norm_dengue_features_train_iq = stripped_norm_dengue_features_train_iq.reset_index(drop = True)\n",
    "stripped_norm_dengue_features_train_iq = stripped_norm_dengue_features_train_iq.drop(['data_set'], axis=1)\n",
    "\n",
    "stripped_norm_dengue_features_test_iq = dengue_norm_features_iq[dengue_norm_features_iq['data_set'] == 'test']\n",
    "stripped_norm_dengue_features_test_iq = stripped_norm_dengue_features_test_iq.reset_index(drop = True)\n",
    "stripped_norm_dengue_features_test_iq = stripped_norm_dengue_features_test_iq.drop(['data_set'], axis=1)\n",
    "\n",
    "# normalize labels\n",
    "scalerLabels_iq = scaler.fit(stripped_dengue_labels_train_iq)\n",
    "stripped_norm_dengue_labels_train_iq = scalerLabels_iq.fit_transform(stripped_dengue_labels_train_iq)\n",
    "\n",
    "# split data into train and test\n",
    "X_train, X_test = np.split(stripped_norm_dengue_features_train_iq, [int(.8*len(stripped_norm_dengue_features_train_iq))])\n",
    "y_train, y_test = np.split(stripped_norm_dengue_labels_train_iq, [int(.8*len(stripped_norm_dengue_labels_train_iq))])\n",
    "\n",
    "X_train = X_train.values\n",
    "X_test = X_test.values\n",
    "X_submission = stripped_norm_dengue_features_test_iq.values\n",
    "\n",
    "# reshape input to be 3D [samples, timesteps, features]\n",
    "X_train = X_train.reshape((X_train.shape[0], 1, X_train.shape[1]))\n",
    "X_test = X_test.reshape((X_test.shape[0], 1, X_test.shape[1]))\n",
    "X_submission = X_submission.reshape((X_submission.shape[0], 1, X_submission.shape[1]))\n",
    "\n",
    "print(X_train.shape, y_train.shape, X_test.shape, y_test.shape, X_submission.shape)\n",
    "\n",
    "#design network\n",
    "model = Sequential()\n",
    "model.add(LSTM(120, input_shape=(X_train.shape[1], X_train.shape[2]), return_sequences=True, activation='relu', kernel_regularizer=reg))\n",
    "model.add(LSTM(240, input_shape=(X_train.shape[1], X_train.shape[2]), return_sequences=True, activation='relu', kernel_regularizer=reg))\n",
    "model.add(LSTM(120, input_shape=(X_train.shape[1], X_train.shape[2]), kernel_regularizer=reg))\n",
    "model.add(Dropout(0.2))\n",
    "model.add(Dense(1))\n",
    "model.add(Activation(\"linear\"))\n",
    "model.compile(loss='mse', optimizer='adam')"
   ]
  },
  {
   "cell_type": "code",
   "execution_count": null,
   "metadata": {
    "scrolled": false
   },
   "outputs": [],
   "source": [
    "# train model\n",
    "checkpointer = ModelCheckpoint(filepath='saved_models/weights.best.attempt1.iq.hdf5', verbose=2, \n",
    "                               save_best_only=True)\n",
    "\n",
    "# fit network       \n",
    "history = model.fit(X_train, y_train, epochs=100, batch_size=51, validation_data=(X_test, y_test), verbose=0, shuffle=False,\n",
    "                    callbacks=[checkpointer])"
   ]
  },
  {
   "cell_type": "code",
   "execution_count": null,
   "metadata": {},
   "outputs": [],
   "source": [
    "# load best weights\n",
    "model.load_weights('saved_models/weights.best.attempt1.iq.hdf5')\n",
    "\n",
    "# make a prediction\n",
    "y_submission = model.predict(X_submission)\n",
    "\n",
    "# invert scaling for forecast\n",
    "y_submission = scalerLabels_iq.inverse_transform(y_submission)\n",
    "y_submission_iq = np.around(y_submission, decimals=0)\n",
    "y_submission_iq = y_submission_iq.astype(int)"
   ]
  },
  {
   "cell_type": "markdown",
   "metadata": {},
   "source": [
    "### San Juan"
   ]
  },
  {
   "cell_type": "code",
   "execution_count": null,
   "metadata": {},
   "outputs": [],
   "source": [
    "# Normalization should be done on both, train and test features datasets, ensuring that the values in both datasets \n",
    "# remain of same magnitude. Therefore these datasets will be joined, applied the minmax normalization, and then splitted.\n",
    "stripped_dengue_features_train_sj['data_set'] = 'train'\n",
    "stripped_dengue_features_test_sj['data_set']  = 'test'\n",
    "\n",
    "dengue_norm_features_sj  = stripped_dengue_features_train_sj.append(stripped_dengue_features_test_sj)\n",
    "dengue_norm_features_sj[columns_to_scale] = scaler.fit_transform(dengue_norm_features_sj[columns_to_scale])\n",
    "\n",
    "# separate into the original datasets, dropping the temporary columns 'dataset'\n",
    "stripped_norm_dengue_features_train_sj = dengue_norm_features_sj[dengue_norm_features_sj['data_set'] == 'train']\n",
    "stripped_norm_dengue_features_train_sj = stripped_norm_dengue_features_train_sj.reset_index(drop = True)\n",
    "stripped_norm_dengue_features_train_sj = stripped_norm_dengue_features_train_sj.drop(['data_set'], axis=1)\n",
    "\n",
    "stripped_norm_dengue_features_test_sj = dengue_norm_features_sj[dengue_norm_features_sj['data_set'] == 'test']\n",
    "stripped_norm_dengue_features_test_sj = stripped_norm_dengue_features_test_sj.reset_index(drop = True)\n",
    "stripped_norm_dengue_features_test_sj = stripped_norm_dengue_features_test_sj.drop(['data_set'], axis=1)\n",
    "\n",
    "# normalize labels\n",
    "scalerLabels_sj = scaler.fit(stripped_dengue_labels_train_sj)\n",
    "stripped_norm_dengue_labels_train_sj = scalerLabels_sj.fit_transform(stripped_dengue_labels_train_sj)\n",
    "\n",
    "# split data into train and test\n",
    "X_train, X_test = np.split(stripped_norm_dengue_features_train_sj, [int(.8*len(stripped_norm_dengue_features_train_sj))])\n",
    "y_train, y_test = np.split(stripped_norm_dengue_labels_train_sj, [int(.8*len(stripped_norm_dengue_labels_train_sj))])\n",
    "\n",
    "X_train = X_train.values\n",
    "X_test = X_test.values\n",
    "X_submission = stripped_norm_dengue_features_test_sj.values\n",
    "\n",
    "# reshape input to be 3D [samples, timesteps, features]\n",
    "X_train = X_train.reshape((X_train.shape[0], 1, X_train.shape[1]))\n",
    "X_test = X_test.reshape((X_test.shape[0], 1, X_test.shape[1]))\n",
    "X_submission = X_submission.reshape((X_submission.shape[0], 1, X_submission.shape[1]))\n",
    "\n",
    "print(X_train.shape, y_train.shape, X_test.shape, y_test.shape, X_submission.shape)\n",
    "\n",
    "#design network\n",
    "model = Sequential()\n",
    "model.add(LSTM(120, input_shape=(X_train.shape[1], X_train.shape[2]), return_sequences=True, activation='relu', kernel_regularizer=reg))\n",
    "model.add(LSTM(240, input_shape=(X_train.shape[1], X_train.shape[2]), return_sequences=True, activation='relu', kernel_regularizer=reg))\n",
    "model.add(LSTM(120, input_shape=(X_train.shape[1], X_train.shape[2]), kernel_regularizer=reg))\n",
    "model.add(Dropout(0.2))\n",
    "model.add(Dense(1))\n",
    "model.add(Activation(\"linear\"))\n",
    "model.compile(loss='mse', optimizer='adam')"
   ]
  },
  {
   "cell_type": "code",
   "execution_count": null,
   "metadata": {},
   "outputs": [],
   "source": [
    "# fit network\n",
    "checkpointer = ModelCheckpoint(filepath='saved_models/weights.best.attempt1.sj.hdf5', verbose=2, \n",
    "                               save_best_only=True)\n",
    "        \n",
    "history = model.fit(X_train, y_train, epochs=100, batch_size=51, validation_data=(X_test, y_test), verbose=0, shuffle=False,\n",
    "                    callbacks=[checkpointer])"
   ]
  },
  {
   "cell_type": "code",
   "execution_count": null,
   "metadata": {},
   "outputs": [],
   "source": [
    "# load best weights\n",
    "model.load_weights('saved_models/weights.best.attempt1.sj.hdf5')\n",
    "\n",
    "# make a prediction\n",
    "y_submission = model.predict(X_submission)\n",
    "\n",
    "# invert scaling for forecast\n",
    "y_submission = scalerLabels_iq.inverse_transform(y_submission)\n",
    "y_submission_sj = np.around(y_submission, decimals=0)\n",
    "y_submission_sj = y_submission_sj.astype(int)"
   ]
  },
  {
   "cell_type": "markdown",
   "metadata": {},
   "source": [
    "### Create LSTM Submission File"
   ]
  },
  {
   "cell_type": "code",
   "execution_count": null,
   "metadata": {},
   "outputs": [],
   "source": [
    "# San Juan - city,year,weekofyear,total_cases\n",
    "submission_sj = dengue_features_test_sj[['year','weekofyear']]\n",
    "submission_sj.insert( 0,'city','sj')\n",
    "\n",
    "df_y_submission_sj = pd.DataFrame(y_submission_sj, columns=['total_cases'])\n",
    "submission_sj = pd.concat([submission_sj, df_y_submission_sj], axis=1)\n",
    "\n",
    "# Iquitos - city,year,weekofyear,total_cases\n",
    "submission_iq = dengue_features_test_iq[['year','weekofyear']]\n",
    "submission_iq.insert( 0,'city','iq')\n",
    "\n",
    "df_y_submission_iq = pd.DataFrame(y_submission_iq, columns=['total_cases'])\n",
    "submission_iq = pd.concat([submission_iq, df_y_submission_iq], axis=1)\n",
    "\n",
    "# join both predictions\n",
    "submission = pd.concat([submission_sj, submission_iq])\n",
    "submission = submission.reset_index(drop = True)\n",
    "\n",
    "#write into csv\n",
    "submission.to_csv(\"Submission\\Submission_1_lstm.csv\", encoding='utf-8', index=False)"
   ]
  },
  {
   "attachments": {
    "image.png": {
     "image/png": "[encoded data removed]"
    }
   },
   "cell_type": "markdown",
   "metadata": {},
   "source": [
    "### LSTM Submission Score \n",
    "\n",
    "#### Without kernel regularizer and Batch Size 16:\n",
    "![image.png](attachment:image.png)"
   ]
  },
  {
   "attachments": {
    "image.png": {
     "image/png": "[encoded data removed]"
    }
   },
   "cell_type": "markdown",
   "metadata": {},
   "source": [
    "#### Wit kernel regularizer and Batch Size 51:\n",
    "![image.png](attachment:image.png)"
   ]
  },
  {
   "cell_type": "markdown",
   "metadata": {},
   "source": [
    "## Sequence classification with 1D convolutions\n",
    "\n",
    "### Initialization"
   ]
  },
  {
   "cell_type": "code",
   "execution_count": null,
   "metadata": {},
   "outputs": [],
   "source": [
    "from keras.models import Sequential\n",
    "from keras.layers import Dense, Dropout\n",
    "from keras.layers import Embedding\n",
    "from keras.layers import Conv1D, GlobalAveragePooling1D, MaxPooling1D\n",
    "from keras.layers import Activation\n",
    "from keras.callbacks import ModelCheckpoint\n",
    "\n",
    "columns_to_scale = ['D1', 'D2','D3', 'D4','D5', 'D6']\n",
    "\n",
    "# Initialize a scaler and apply it to the features\n",
    "scaler = MinMaxScaler(feature_range=(0, 1)) # default=(0, 1)"
   ]
  },
  {
   "cell_type": "markdown",
   "metadata": {},
   "source": [
    "### Iquitos"
   ]
  },
  {
   "cell_type": "code",
   "execution_count": null,
   "metadata": {},
   "outputs": [],
   "source": [
    "# Normalization should be done on both, train and test features datasets, ensuring that the values in both datasets \n",
    "# remain of same magnitude. Therefore these datasets will be joined, applied the minmax normalization, and then splitted.\n",
    "stripped_dengue_features_train_iq['data_set'] = 'train'\n",
    "stripped_dengue_features_test_iq['data_set']  = 'test'\n",
    "\n",
    "dengue_norm_features_iq  = stripped_dengue_features_train_iq.append(stripped_dengue_features_test_iq)\n",
    "dengue_norm_features_iq[columns_to_scale] = scaler.fit_transform(dengue_norm_features_iq[columns_to_scale])\n",
    "\n",
    "# separate into the original datasets, dropping the temporary columns 'dataset'\n",
    "stripped_norm_dengue_features_train_iq = dengue_norm_features_iq[dengue_norm_features_iq['data_set'] == 'train']\n",
    "stripped_norm_dengue_features_train_iq = stripped_norm_dengue_features_train_iq.reset_index(drop = True)\n",
    "stripped_norm_dengue_features_train_iq = stripped_norm_dengue_features_train_iq.drop(['data_set'], axis=1)\n",
    "\n",
    "stripped_norm_dengue_features_test_iq = dengue_norm_features_iq[dengue_norm_features_iq['data_set'] == 'test']\n",
    "stripped_norm_dengue_features_test_iq = stripped_norm_dengue_features_test_iq.reset_index(drop = True)\n",
    "stripped_norm_dengue_features_test_iq = stripped_norm_dengue_features_test_iq.drop(['data_set'], axis=1)\n",
    "\n",
    "# normalize labels\n",
    "scalerLabels_iq = scaler.fit(stripped_dengue_labels_train_iq)\n",
    "stripped_norm_dengue_labels_train_iq = scalerLabels_iq.fit_transform(stripped_dengue_labels_train_iq)\n",
    "\n",
    "# split data into train and test\n",
    "X_train, X_test = np.split(stripped_norm_dengue_features_train_iq, [int(.8*len(stripped_norm_dengue_features_train_iq))])\n",
    "y_train, y_test = np.split(stripped_norm_dengue_labels_train_iq, [int(.8*len(stripped_norm_dengue_labels_train_iq))])\n",
    "\n",
    "X_train = X_train.values\n",
    "X_test = X_test.values\n",
    "X_submission = stripped_norm_dengue_features_test_iq.values\n",
    "\n",
    "# reshape input to be 3D [samples, timesteps, features]\n",
    "X_train = X_train.reshape((X_train.shape[0], X_train.shape[1], 1))\n",
    "X_test = X_test.reshape((X_test.shape[0], X_test.shape[1], 1))\n",
    "X_submission = X_submission.reshape((X_submission.shape[0], X_submission.shape[1], 1))\n",
    "\n",
    "print(X_train.shape, y_train.shape, X_test.shape, y_test.shape, X_submission.shape)\n",
    "\n",
    "model = Sequential()\n",
    "model.add(Conv1D(96, 2, activation='relu', input_shape=( X_train.shape[1], 1)))\n",
    "model.add(Conv1D(96, 2, activation='relu'))\n",
    "model.add(MaxPooling1D(1))\n",
    "model.add(Conv1D(192, 2, activation='relu'))\n",
    "model.add(Conv1D(192, 2, activation='relu'))\n",
    "model.add(GlobalAveragePooling1D())\n",
    "model.add(Dropout(0.5))\n",
    "model.add(Dense(1, activation='sigmoid'))\n",
    "\n",
    "model.compile(loss='mse', optimizer='adam')"
   ]
  },
  {
   "cell_type": "code",
   "execution_count": null,
   "metadata": {},
   "outputs": [],
   "source": [
    "checkpointer = ModelCheckpoint(filepath='saved_models/weights.conv1D.b32.attempt1.iq.hdf5', verbose=2, \n",
    "                               save_best_only=True)\n",
    "        \n",
    "history = model.fit(X_train, y_train, epochs=100, batch_size=32, validation_data=(X_test, y_test), verbose=0, shuffle=False,\n",
    "                    callbacks=[checkpointer])"
   ]
  },
  {
   "cell_type": "code",
   "execution_count": null,
   "metadata": {},
   "outputs": [],
   "source": [
    "# load best weights\n",
    "model.load_weights('saved_models/weights.conv1D.b32.attempt1.iq.hdf5')\n",
    "\n",
    "# make a prediction\n",
    "y_submission = model.predict(X_submission)\n",
    "\n",
    "# invert scaling for forecast\n",
    "y_submission = scalerLabels_iq.inverse_transform(y_submission)\n",
    "y_submission_iq = np.around(y_submission, decimals=0)\n",
    "y_submission_iq = y_submission_iq.astype(int)"
   ]
  },
  {
   "cell_type": "markdown",
   "metadata": {},
   "source": [
    "### San Juan"
   ]
  },
  {
   "cell_type": "code",
   "execution_count": null,
   "metadata": {},
   "outputs": [],
   "source": [
    "# Normalization should be done on both, train and test features datasets, ensuring that the values in both datasets \n",
    "# remain of same magnitude. Therefore these datasets will be joined, applied the minmax normalization, and then splitted.\n",
    "stripped_dengue_features_train_sj['data_set'] = 'train'\n",
    "stripped_dengue_features_test_sj['data_set']  = 'test'\n",
    "\n",
    "dengue_norm_features_sj  = stripped_dengue_features_train_sj.append(stripped_dengue_features_test_sj)\n",
    "dengue_norm_features_sj[columns_to_scale] = scaler.fit_transform(dengue_norm_features_sj[columns_to_scale])\n",
    "\n",
    "# separate into the original datasets, dropping the temporary columns 'dataset'\n",
    "stripped_norm_dengue_features_train_sj = dengue_norm_features_sj[dengue_norm_features_sj['data_set'] == 'train']\n",
    "stripped_norm_dengue_features_train_sj = stripped_norm_dengue_features_train_sj.reset_index(drop = True)\n",
    "stripped_norm_dengue_features_train_sj = stripped_norm_dengue_features_train_sj.drop(['data_set'], axis=1)\n",
    "\n",
    "stripped_norm_dengue_features_test_sj = dengue_norm_features_sj[dengue_norm_features_sj['data_set'] == 'test']\n",
    "stripped_norm_dengue_features_test_sj = stripped_norm_dengue_features_test_sj.reset_index(drop = True)\n",
    "stripped_norm_dengue_features_test_sj = stripped_norm_dengue_features_test_sj.drop(['data_set'], axis=1)\n",
    "\n",
    "# normalize labels\n",
    "scalerLabels_sj = scaler.fit(stripped_dengue_labels_train_sj)\n",
    "stripped_norm_dengue_labels_train_sj = scalerLabels_sj.fit_transform(stripped_dengue_labels_train_sj)\n",
    "\n",
    "# split data into train and test\n",
    "X_train, X_test = np.split(stripped_norm_dengue_features_train_sj, [int(.8*len(stripped_norm_dengue_features_train_sj))])\n",
    "y_train, y_test = np.split(stripped_norm_dengue_labels_train_sj, [int(.8*len(stripped_norm_dengue_labels_train_sj))])\n",
    "\n",
    "X_train = X_train.values\n",
    "X_test = X_test.values\n",
    "X_submission = stripped_norm_dengue_features_test_sj.values\n",
    "\n",
    "# reshape input to be 3D [samples, timesteps, features]\n",
    "X_train = X_train.reshape((X_train.shape[0], X_train.shape[1], 1))\n",
    "X_test = X_test.reshape((X_test.shape[0], X_test.shape[1], 1))\n",
    "X_submission = X_submission.reshape((X_submission.shape[0], X_submission.shape[1], 1))\n",
    "\n",
    "print(X_train.shape, y_train.shape, X_test.shape, y_test.shape, X_submission.shape)\n",
    "\n",
    "model = Sequential()\n",
    "model.add(Conv1D(96, 2, activation='relu', input_shape=( X_train.shape[1], 1)))\n",
    "model.add(Conv1D(96, 2, activation='relu'))\n",
    "model.add(MaxPooling1D(1))\n",
    "model.add(Conv1D(192, 2, activation='relu'))\n",
    "model.add(Conv1D(192, 2, activation='relu'))\n",
    "model.add(GlobalAveragePooling1D())\n",
    "model.add(Dropout(0.5))\n",
    "model.add(Dense(1, activation='sigmoid'))\n",
    "\n",
    "model.compile(loss='mse', optimizer='adam')"
   ]
  },
  {
   "cell_type": "code",
   "execution_count": null,
   "metadata": {},
   "outputs": [],
   "source": [
    "checkpointer = ModelCheckpoint(filepath='saved_models/weights.conv1D.b32.attempt1.sj.hdf5', verbose=2, \n",
    "                               save_best_only=True)\n",
    "        \n",
    "history = model.fit(X_train, y_train, epochs=100, batch_size=32, validation_data=(X_test, y_test), verbose=0, shuffle=False,\n",
    "                    callbacks=[checkpointer])"
   ]
  },
  {
   "cell_type": "code",
   "execution_count": null,
   "metadata": {},
   "outputs": [],
   "source": [
    "# load best weights\n",
    "model.load_weights('saved_models/weights.conv1D.b32.attempt1.sj.hdf5')\n",
    "\n",
    "# make a prediction\n",
    "y_submission = model.predict(X_submission)\n",
    "\n",
    "# invert scaling for forecast\n",
    "y_submission = scalerLabels_iq.inverse_transform(y_submission)\n",
    "y_submission_sj = np.around(y_submission, decimals=0)\n",
    "y_submission_sj = y_submission_sj.astype(int)"
   ]
  },
  {
   "cell_type": "markdown",
   "metadata": {},
   "source": [
    "### Create Conv1 Submission File"
   ]
  },
  {
   "cell_type": "code",
   "execution_count": null,
   "metadata": {},
   "outputs": [],
   "source": [
    "# San Juan - city,year,weekofyear,total_cases\n",
    "submission_sj = dengue_features_test_sj[['year','weekofyear']]\n",
    "submission_sj.insert( 0,'city','sj')\n",
    "\n",
    "df_y_submission_sj = pd.DataFrame(y_submission_sj, columns=['total_cases'])\n",
    "submission_sj = pd.concat([submission_sj, df_y_submission_sj], axis=1)\n",
    "\n",
    "# Iquitos - city,year,weekofyear,total_cases\n",
    "submission_iq = dengue_features_test_iq[['year','weekofyear']]\n",
    "submission_iq.insert( 0,'city','iq')\n",
    "\n",
    "df_y_submission_iq = pd.DataFrame(y_submission_iq, columns=['total_cases'])\n",
    "submission_iq = pd.concat([submission_iq, df_y_submission_iq], axis=1)\n",
    "\n",
    "# join both predictions\n",
    "submission = pd.concat([submission_sj, submission_iq])\n",
    "submission = submission.reset_index(drop = True)\n",
    "\n",
    "#write into csv\n",
    "submission.to_csv(\"Submission\\Submission_1_conv1d_batch32.csv\", encoding='utf-8', index=False)"
   ]
  },
  {
   "attachments": {
    "image.png": {
     "image/png": "[encoded data removed]"
    }
   },
   "cell_type": "markdown",
   "metadata": {},
   "source": [
    "### Conv1D Submission Score \n",
    "\n",
    "#### Without kernel regularizer and Batch Size 16:\n",
    "![image.png](attachment:image.png)"
   ]
  },
  {
   "attachments": {
    "image.png": {
     "image/png": "[encoded data removed]"
    }
   },
   "cell_type": "markdown",
   "metadata": {},
   "source": [
    "#### Without kernel regularizer and Batch Size 32:![image.png](attachment:image.png)"
   ]
  },
  {
   "cell_type": "code",
   "execution_count": null,
   "metadata": {},
   "outputs": [],
   "source": []
  }
 ],
 "metadata": {
  "kernelspec": {
   "display_name": "Python 3",
   "language": "python",
   "name": "python3"
  },
  "language_info": {
   "codemirror_mode": {
    "name": "ipython",
    "version": 3
   },
   "file_extension": ".py",
   "mimetype": "text/x-python",
   "name": "python",
   "nbconvert_exporter": "python",
   "pygments_lexer": "ipython3",
   "version": "3.6.5"
  }
 },
 "nbformat": 4,
 "nbformat_minor": 2
}
